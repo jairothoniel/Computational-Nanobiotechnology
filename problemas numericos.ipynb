{
 "cells": [
  {
   "cell_type": "code",
   "execution_count": 57,
   "id": "e9aaeb69",
   "metadata": {},
   "outputs": [
    {
     "name": "stdout",
     "output_type": "stream",
     "text": [
      "El número de Euler que nos da Python es e= 2.718281828459045\n",
      "Ingresa un numero n para el número de iteraciones\n",
      "100\n",
      "Ingrese el valor de x para evaluar la aproximaión de la función f(x)=e^x\n",
      "1\n",
      "Para x= 1.0 y n= 99 el valor de e= 2.7182818284590455\n",
      "error= 4.440892098500626e-14\n"
     ]
    }
   ],
   "source": [
    "#Aplicaciones de la nanotecnología computacional\n",
    "#Proyecto 2\n",
    "#Jair Domínguez, Adriel Reyes y Eduardo Flores\n",
    "# Aproximación del número de Euler usando el teorema de Taylor\n",
    "import numpy as np \n",
    "from decimal import Decimal\n",
    "\n",
    "e_real = np.exp(1) #Usamos el valor que nos da Numpy para comparar\n",
    "print(\"El número de Euler que nos da Python es e=\",e_real)\n",
    "\n",
    "n=int(input('Ingresa un numero n para el número de iteraciones\\n'))\n",
    "\n",
    "x =float(input('Ingrese el valor de x para evaluar la aproximaión de la función f(x)=e^x\\n'))\n",
    "\n",
    "\n",
    "e = 0\n",
    "\n",
    "for n in range(0,n):\n",
    "    e = e + (x**n)/np.math.factorial(n)\n",
    "    error = abs(e_real-e)\n",
    "    \n",
    "print(\"Para x=\",x,\"y\",\"n=\",n,\"el valor de e=\",e)              \n",
    "print(\"error=\",error*100)"
   ]
  },
  {
   "cell_type": "code",
   "execution_count": 37,
   "id": "c1d1f153",
   "metadata": {},
   "outputs": [
    {
     "name": "stdout",
     "output_type": "stream",
     "text": [
      "Ingresa un numero\n",
      "4\n",
      "2.0\n",
      "1.0\n"
     ]
    }
   ],
   "source": [
    "#Prueba de la conjetura de Collatz en Python\n",
    "\n",
    "#Primero hay que tratar de saber si el número que vamos a inpeccionar es par o immpar\n",
    "def prueba(numero):\n",
    "\tif (numero % 2 == 1): # Si al dividir entre 2 el residuo es 1 entonces es impar\n",
    "\t\treturn False \n",
    "\telse:\n",
    "\t\treturn True #De lo contrario es par\n",
    "\n",
    "# Ahora hay que aplicar el algoritmo de Collatz\n",
    "def CalcularCollatz(numero):\n",
    "\twhile numero > 1:\n",
    "\t\tif (prueba(numero) == False):\n",
    "\t\t\tnumero  = numero * 3 + 1 #Si es impar multiplicamos por 3 y sumamos 1   \n",
    "\t\t\tprint(numero)            \n",
    "\t\telse:\n",
    "\t\t\tnumero = numero / 2 #Si es par dividimos entre 2       \n",
    "\t\t\tprint(numero)\n",
    "CalcularCollatz(int(input('Ingresa un numero\\n')))\n"
   ]
  },
  {
   "cell_type": "code",
   "execution_count": 39,
   "id": "b77d8067",
   "metadata": {},
   "outputs": [
    {
     "name": "stdout",
     "output_type": "stream",
     "text": [
      "0 no es feliz!\n",
      "1 es feliz!\n",
      "2 no es feliz!\n",
      "3 no es feliz!\n",
      "4 no es feliz!\n",
      "5 no es feliz!\n",
      "6 no es feliz!\n",
      "7 es feliz!\n",
      "8 no es feliz!\n",
      "9 no es feliz!\n",
      "10 es feliz!\n",
      "11 no es feliz!\n",
      "12 no es feliz!\n",
      "13 es feliz!\n",
      "14 no es feliz!\n",
      "15 no es feliz!\n",
      "16 no es feliz!\n",
      "17 no es feliz!\n",
      "18 no es feliz!\n",
      "19 es feliz!\n",
      "20 no es feliz!\n",
      "21 no es feliz!\n",
      "22 no es feliz!\n",
      "23 es feliz!\n",
      "24 no es feliz!\n",
      "25 no es feliz!\n",
      "26 no es feliz!\n",
      "27 no es feliz!\n",
      "28 es feliz!\n",
      "29 no es feliz!\n"
     ]
    }
   ],
   "source": [
    "def es_feliz(num):\n",
    "    r = num\n",
    "    suma_cuadrados = []\n",
    "    while True:\n",
    "        if r == 1:\n",
    "            return True\n",
    "\n",
    "        r = sum(int(x) ** 2 for x in str(r))\n",
    "        if r in suma_cuadrados:\n",
    "            return False\n",
    "\n",
    "        suma_cuadrados.append(r)\n",
    "\n",
    "for i in range(30):\n",
    "    if es_feliz(i):\n",
    "        print(f\"{i} es feliz!\")\n",
    "    else:\n",
    "        print(f\"{i} no es feliz!\")"
   ]
  },
  {
   "cell_type": "code",
   "execution_count": 2,
   "id": "fefa1403",
   "metadata": {},
   "outputs": [
    {
     "name": "stdout",
     "output_type": "stream",
     "text": [
      "Ingresa un numero para saber si es primo\n",
      "23\n",
      "Es primo\n"
     ]
    },
    {
     "data": {
      "text/plain": [
       "True"
      ]
     },
     "execution_count": 2,
     "metadata": {},
     "output_type": "execute_result"
    }
   ],
   "source": [
    "# Programa que nos dice si un número N es primo\n",
    "\n",
    "def es_primo(num): #Definimos una función que nos diga si un número es primo\n",
    "    for n in range(2, num): #Inspeccionamos si es divisible en un rango de números desde el 2 hasta si mismo\n",
    "        if num % n == 0: #Esta condición nos permite calcular el residuo, si es cero entonces el número no es primo\n",
    "            print(\"No es primo\", n, \"es divisor\")\n",
    "            return False\n",
    "    print(\"Es primo\")\n",
    "    return True\n",
    "es_primo(int(input('Ingresa un numero para saber si es primo\\n')))"
   ]
  },
  {
   "cell_type": "code",
   "execution_count": null,
   "id": "ec206a6e",
   "metadata": {},
   "outputs": [],
   "source": []
  }
 ],
 "metadata": {
  "kernelspec": {
   "display_name": "Python 3",
   "language": "python",
   "name": "python3"
  },
  "language_info": {
   "codemirror_mode": {
    "name": "ipython",
    "version": 3
   },
   "file_extension": ".py",
   "mimetype": "text/x-python",
   "name": "python",
   "nbconvert_exporter": "python",
   "pygments_lexer": "ipython3",
   "version": "3.8.8"
  }
 },
 "nbformat": 4,
 "nbformat_minor": 5
}
