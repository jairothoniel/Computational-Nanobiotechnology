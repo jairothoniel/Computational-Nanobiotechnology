{
 "cells": [
  {
   "cell_type": "code",
   "execution_count": 2,
   "id": "29c1f45c",
   "metadata": {},
   "outputs": [
    {
     "name": "stdout",
     "output_type": "stream",
     "text": [
      "Aproximación del valor de π por el método de Montecarlo.\n",
      "Ingrese el número de puntos N que desea evaluar:\n",
      "10\n",
      "El valor de π en python es de: 3.141592653589793\n",
      "El número de puntos dentro del círculo es Nc= [9]\n",
      "El valor de π es: 3.6\n",
      "El error para N= 10 lanzamientos es de 14.59155902616465 % .\n",
      "\n"
     ]
    },
    {
     "data": {
      "image/png": "[encoded data removed]",
      "text/plain": [
       "<Figure size 432x288 with 1 Axes>"
      ]
     },
     "metadata": {
      "needs_background": "light"
     },
     "output_type": "display_data"
    }
   ],
   "source": [
    "#Aplicaciones de la nanotecnología computacional\n",
    "#Proyecto 3 - Calculo de π por el método de montecarlo\n",
    "#Jair Dominguez, Eduardo Flores y Adriel Reyes\n",
    "\n",
    "#Importamos librerias\n",
    "import numpy as np\n",
    "import matplotlib.pyplot as plt \n",
    "from decimal import *\n",
    "\n",
    "print(\"Aproximación del valor de π por el método de Montecarlo.\")\n",
    "print(\"Ingrese el número de puntos N que desea evaluar:\")\n",
    "\n",
    "N=int(input()) # N=numero total de puntos\n",
    "\n",
    "#Generamos una lista de números x y y para el cuadrado\n",
    "x = np.zeros([N,1]) #Valores de x para el cuadrado\n",
    "y = np.zeros([N,1])#Valores de y para el cuadrado\n",
    "\n",
    "xc = np.zeros([N,1])#Valores de x para el circulo\n",
    "yc = np.zeros([N,1])#Valores de y para el circulo\n",
    "\n",
    "# Llenamos los arreglos con números aleatorios\n",
    "for i in range(0,N):\n",
    "    x[i] = np.random.uniform(-1, 1) #Generamos un número aleatorio para la coordenada x\n",
    "    y[i] = np.random.uniform(-1,1) #Generamos un número aleatorio para la coordenada y\n",
    "    if (x[i]**2 + y[i]**2<1): #Condición que nos permite determinar si los puntos pertenecen al circulo\n",
    "        xc[i]=x[i]#Observemos que aquellos que no cumplan simplemente se quedan con cero\n",
    "        yc[i]=y[i]\n",
    "\n",
    "Nc = (xc != 0).sum(0) #Este comando nos permite contar los elementos que son diferentes de cero\n",
    "Ncy = (yc != 0).sum(0)#y saber cuantos puntos están dentro de la circunferencia\n",
    "\n",
    "π=4*(Nc/ N) #Ecuación que determina π\n",
    "error = abs((np.pi-π[0])/np.pi)*100\n",
    "print(\"El valor de π en python es de:\",np.pi)\n",
    "print(\"El número de puntos dentro del círculo es Nc=\",Nc) \n",
    "print(\"El valor de π es:\",π[0],)\n",
    "print(\"El error para N=\",N,\"lanzamientos es de\",error,\"% .\")\n",
    "print()\n",
    "\n",
    "plt.plot(x, y, \"r.\", label=\"Puntos del cuadrado\")\n",
    "plt.plot(xc, yc, \"g.\", label=\"Puntos del circulo\")\n",
    "plt.xlim(-1,1)\n",
    "plt.ylim(-1,1)\n",
    "plt.axis('square')\n",
    "plt.xlabel(\"x\")\n",
    "plt.ylabel(\"y\")\n",
    "plt.title(\"Lanzamiento de puntos aleatorios para aproximar π\")\n",
    "plt.savefig(\"grafica_F.jpg\")\n",
    "plt.show()"
   ]
  },
  {
   "cell_type": "code",
   "execution_count": 5,
   "id": "daedea6f",
   "metadata": {},
   "outputs": [
    {
     "data": {
      "image/png": "[encoded data removed]",
      "text/plain": [
       "<Figure size 432x288 with 1 Axes>"
      ]
     },
     "metadata": {
      "needs_background": "light"
     },
     "output_type": "display_data"
    }
   ],
   "source": [
    "\n",
    "y2 = np.array([[np.pi],[np.pi],[np.pi],[np.pi],[np.pi],[np.pi]]) \n",
    "x1 = np.array([[10],[100],[1000],[10000],[100000],[1000000]]) \n",
    "y1 = np.array([[3.6],[3.2],[3.204],[3.1324],[3.14684],[3.144156]])\n",
    "y3 = np.array([[1.7778],[4.0],[3.0091],[3.1075],[3.1134],[3.1245]])\n",
    "plt.plot(x1,y1,\"r.\",label=\"Método A\")\n",
    "plt.plot(x1,y2,\"--\",label=\"π real\")\n",
    "plt.plot(x1,y3,\"g.\",label=\"Método B\")\n",
    "plt.xscale(\"log\")\n",
    "plt.xlabel(\"N\")\n",
    "plt.ylabel(\"Estimación de π\")\n",
    "plt.grid()\n",
    "plt.legend()\n",
    "plt.title(\"Comparación de ambos métodos\")\n",
    "plt.savefig(\"grafica_NvsPI.jpg\")\n",
    "plt.show()"
   ]
  },
  {
   "cell_type": "code",
   "execution_count": null,
   "id": "7a2a56f1",
   "metadata": {},
   "outputs": [],
   "source": []
  }
 ],
 "metadata": {
  "kernelspec": {
   "display_name": "Python 3",
   "language": "python",
   "name": "python3"
  },
  "language_info": {
   "codemirror_mode": {
    "name": "ipython",
    "version": 3
   },
   "file_extension": ".py",
   "mimetype": "text/x-python",
   "name": "python",
   "nbconvert_exporter": "python",
   "pygments_lexer": "ipython3",
   "version": "3.8.8"
  }
 },
 "nbformat": 4,
 "nbformat_minor": 5
}
